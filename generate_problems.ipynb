{
 "cells": [
  {
   "cell_type": "code",
   "execution_count": 1,
   "metadata": {},
   "outputs": [],
   "source": [
    "import numpy as np\n",
    "import networkx as nx\n",
    "from docplex.mp.model import Model\n",
    "from collections import defaultdict\n"
   ]
  },
  {
   "cell_type": "markdown",
   "metadata": {},
   "source": [
    "# Fully connected problems"
   ]
  },
  {
   "cell_type": "code",
   "execution_count": 2,
   "metadata": {},
   "outputs": [],
   "source": [
    "def WMaxCut(G):\n",
    "    # Weighted maxcut problem from networkx graph model as a QUBO problem\n",
    "    mdl = Model('MaxCut')\n",
    "    num_vertices = G.number_of_nodes()\n",
    "    x = {i: mdl.binary_var(name=f\"x_{i}\") for i in range(num_vertices)}\n",
    "    mdl.minimize(-mdl.sum(G[i][j][\"weight\"]*(x[i] * (1 - x[j]) + x[j] * (1 - x[i]))  for (i, j) in G.edges))\n",
    "    return mdl"
   ]
  },
  {
   "cell_type": "code",
   "execution_count": 11,
   "metadata": {},
   "outputs": [
    {
     "name": "stdout",
     "output_type": "stream",
     "text": [
      "Number of qubits: 10\n",
      "Number of qubits: 11\n",
      "Number of qubits: 12\n",
      "Number of qubits: 13\n",
      "Number of qubits: 14\n",
      "Number of qubits: 15\n",
      "Number of qubits: 16\n",
      "Number of qubits: 17\n",
      "Number of qubits: 18\n",
      "Number of qubits: 19\n"
     ]
    }
   ],
   "source": [
    "np.random.seed(1)\n",
    "problems = defaultdict(dict)\n",
    "\n",
    "nqs = range(10, 20)\n",
    "for nq in nqs:\n",
    "    print(f\"Number of qubits: {nq}\")\n",
    "    G  = nx.Graph()\n",
    "    G.add_nodes_from(range(nq))\n",
    "    for i in range(nq):\n",
    "        for j in range(i + 1, nq):\n",
    "            w = np.random.choice([0.1, 0.2, 0.5, 2.0])\n",
    "            G.add_weighted_edges_from([[i,j,w]])\n",
    "    problems[nq][\"G\"] = G\n",
    "    mdl = WMaxCut(G)\n",
    "    mdl.solve(time_limit=60) # Solving using CPLEX\n",
    "    problems[nq][\"time_cplex\"] = mdl.get_solve_details().deterministic_time\n",
    "    problems[nq][\"real_time_cplex\"] = mdl.get_solve_details().time\n",
    "    problems[nq][\"n_iterations_cplex\"] = mdl.get_solve_details().nb_iterations\n",
    "    problems[nq][\"status\"] = mdl.get_solve_details().status\n",
    "    problems[nq][\"sol\"] = \"\".join(str(round(mdl.solution.get_value(var))) for var in mdl.iter_binary_vars())\n",
    "# np.save(\"./Data/WMC_FC.npy\", problems)"
   ]
  },
  {
   "cell_type": "markdown",
   "metadata": {},
   "source": [
    "# Native Layout Graph"
   ]
  },
  {
   "cell_type": "code",
   "execution_count": 5,
   "metadata": {},
   "outputs": [],
   "source": [
    "from qiskit_ibm_runtime import QiskitRuntimeService, Sampler\n",
    "service = QiskitRuntimeService()"
   ]
  },
  {
   "cell_type": "code",
   "execution_count": 15,
   "metadata": {},
   "outputs": [],
   "source": [
    "backend_name = \"ibm_fez\"\n",
    "backend = service.backend(backend_name)"
   ]
  },
  {
   "cell_type": "code",
   "execution_count": 17,
   "metadata": {},
   "outputs": [],
   "source": [
    "np.random.seed(123)\n",
    "n_qubits = backend.num_qubits\n",
    "problem = {}\n",
    "G = nx.Graph()\n",
    "G.add_nodes_from(range(n_qubits))\n",
    "for i,j in backend.coupling_map.get_edges(): \n",
    "    G.add_weighted_edges_from([[i, j, np.random.choice([0.1, 0.2, 0.3, 0.5, 1.0])]])\n",
    "\n",
    "mdl = WMaxCut(G)\n",
    "mdl.solve()\n",
    "problem[\"G\"] = G\n",
    "problem[\"sol\"] = \"\".join(str(round(mdl.solution.get_value(var))) for var in mdl.iter_binary_vars())\n",
    "np.save(f\"./Data/{backend_name}/NL-problem.npy\", problem)"
   ]
  },
  {
   "cell_type": "code",
   "execution_count": null,
   "metadata": {},
   "outputs": [],
   "source": []
  }
 ],
 "metadata": {
  "kernelspec": {
   "display_name": ".venv",
   "language": "python",
   "name": "python3"
  },
  "language_info": {
   "codemirror_mode": {
    "name": "ipython",
    "version": 3
   },
   "file_extension": ".py",
   "mimetype": "text/x-python",
   "name": "python",
   "nbconvert_exporter": "python",
   "pygments_lexer": "ipython3",
   "version": "3.11.5"
  }
 },
 "nbformat": 4,
 "nbformat_minor": 2
}
