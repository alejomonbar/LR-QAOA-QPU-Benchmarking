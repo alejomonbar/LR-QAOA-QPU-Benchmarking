{
 "cells": [
  {
   "cell_type": "code",
   "execution_count": 2,
   "metadata": {},
   "outputs": [],
   "source": [
    "import numpy as np\n",
    "import networkx as nx\n",
    "from docplex.mp.model import Model\n",
    "from collections import defaultdict\n"
   ]
  },
  {
   "cell_type": "markdown",
   "metadata": {},
   "source": [
    "# Fully connected problems"
   ]
  },
  {
   "cell_type": "code",
   "execution_count": 6,
   "metadata": {},
   "outputs": [],
   "source": [
    "def WMaxCut(G):\n",
    "    # Weighted maxcut problem from networkx graph model as a QUBO problem\n",
    "    mdl = Model('MaxCut')\n",
    "    x = {i: mdl.binary_var(name=f\"x_{i}\") for i in sorted(G.nodes())}\n",
    "    mdl.minimize(-mdl.sum(G[i][j][\"weight\"]*(x[i] * (1 - x[j]) + x[j] * (1 - x[i]))  for (i, j) in G.edges))\n",
    "    return mdl\n",
    "\n",
    "# def WMaxCut(G):\n",
    "#     # Weighted maxcut problem from networkx graph model as a QUBO problem\n",
    "#     mdl = Model('MaxCut')\n",
    "#     num_vertices = G.number_of_nodes()\n",
    "#     translate = {j:i for i, j in enumerate(sorted(G.nodes))}\n",
    "#     x = {i: mdl.binary_var(name=f\"x_{i}\") for i in range(num_vertices)}\n",
    "#     mdl.minimize(-mdl.sum(G[i][j][\"weight\"]*(x[translate[i]] * (1 - x[translate[j]]) + x[translate[j]] * (1 - x[translate[i]]))  for (i, j) in G.edges))\n",
    "#     return mdl"
   ]
  },
  {
   "cell_type": "code",
   "execution_count": null,
   "metadata": {},
   "outputs": [
    {
     "name": "stdout",
     "output_type": "stream",
     "text": [
      "Number of qubits: 10\n",
      "Number of qubits: 11\n",
      "Number of qubits: 12\n",
      "Number of qubits: 13\n",
      "Number of qubits: 14\n",
      "Number of qubits: 15\n",
      "Number of qubits: 16\n",
      "Number of qubits: 17\n",
      "Number of qubits: 18\n",
      "Number of qubits: 19\n"
     ]
    }
   ],
   "source": [
    "np.random.seed(1)\n",
    "problems = defaultdict(dict)\n",
    "\n",
    "num_qubits = range(10, 20)\n",
    "for nq in num_qubits:\n",
    "    print(f\"Number of qubits: {nq}\")\n",
    "    G  = nx.Graph()\n",
    "    G.add_nodes_from(range(nq))\n",
    "    for i in range(nq):\n",
    "        for j in range(i + 1, nq):\n",
    "            w = np.random.choice([0.1, 0.2, 0.5, 2.0])\n",
    "            G.add_weighted_edges_from([[i,j,w]])\n",
    "    problems[nq][\"G\"] = G\n",
    "    mdl = WMaxCut(G)\n",
    "    mdl.solve(time_limit=60) # Solving using CPLEX\n",
    "    problems[nq][\"time_cplex\"] = mdl.get_solve_details().deterministic_time\n",
    "    problems[nq][\"real_time_cplex\"] = mdl.get_solve_details().time\n",
    "    problems[nq][\"n_iterations_cplex\"] = mdl.get_solve_details().nb_iterations\n",
    "    problems[nq][\"status\"] = mdl.get_solve_details().status\n",
    "    problems[nq][\"sol\"] = \"\".join(str(round(mdl.solution.get_value(var))) for var in mdl.iter_binary_vars())\n",
    "# np.save(\"./Data/WMC_FC.npy\", problems)"
   ]
  },
  {
   "cell_type": "markdown",
   "metadata": {},
   "source": [
    "# Native Layout Graph"
   ]
  },
  {
   "cell_type": "code",
   "execution_count": 5,
   "metadata": {},
   "outputs": [],
   "source": [
    "from qiskit_ibm_runtime import QiskitRuntimeService, Sampler\n",
    "service = QiskitRuntimeService()"
   ]
  },
  {
   "cell_type": "code",
   "execution_count": 15,
   "metadata": {},
   "outputs": [],
   "source": [
    "backend_name = \"ibm_fez\"\n",
    "backend = service.backend(backend_name)"
   ]
  },
  {
   "cell_type": "code",
   "execution_count": 17,
   "metadata": {},
   "outputs": [],
   "source": [
    "np.random.seed(123)\n",
    "n_qubits = backend.num_qubits\n",
    "problem = {}\n",
    "G = nx.Graph()\n",
    "G.add_nodes_from(range(n_qubits))\n",
    "for i,j in backend.coupling_map.get_edges(): \n",
    "    w = np.random.choice([0.1, 0.2, 0.3, 0.5, 1.0])\n",
    "    G.add_weighted_edges_from([[i, j, w]])\n",
    "\n",
    "mdl = WMaxCut(G)\n",
    "mdl.solve()\n",
    "problem[\"G\"] = G\n",
    "problem[\"sol\"] = \"\".join(str(round(mdl.solution.get_value(var))) for var in mdl.iter_binary_vars())\n",
    "np.save(f\"./Data/WMC_NL_{backend}.npy\", problem)"
   ]
  },
  {
   "cell_type": "markdown",
   "metadata": {},
   "source": [
    "### AWS devices"
   ]
  },
  {
   "cell_type": "code",
   "execution_count": 4,
   "metadata": {},
   "outputs": [],
   "source": [
    "from braket.aws import AwsDevice, AwsQuantumTask\n",
    "from braket.devices import Devices, LocalSimulator\n",
    "from braket.circuits import Circuit\n",
    "backends = {}\n",
    "backends[\"iqm_garnet\"] = AwsDevice(Devices.IQM.Garnet)\n",
    "backends[\"rigetti_ankaa_3\"] = AwsDevice(Devices.Rigetti.Ankaa3)\n"
   ]
  },
  {
   "cell_type": "code",
   "execution_count": 7,
   "metadata": {},
   "outputs": [],
   "source": [
    "problems = np.load(\"./Data/NL-problems.npy\", allow_pickle=True).item()\n",
    "np.random.seed(123)\n",
    "backend_name = \"rigetti_ankaa_3\"\n",
    "problem = {}\n",
    "G_backend = backends[backend_name].topology_graph\n",
    "n_qubits = G_backend.number_of_nodes()\n",
    "\n",
    "G = nx.Graph()\n",
    "dict_vars = {j:i for i, j in enumerate(sorted(G_backend.nodes))}\n",
    "G.add_nodes_from(sorted(G_backend.nodes()))\n",
    "for i,j in G_backend.edges(): \n",
    "    w = np.random.choice([0.1, 0.2, 0.3, 0.5, 1.0])\n",
    "    G.add_weighted_edges_from([[i, j, w]])\n",
    "\n",
    "mdl = WMaxCut(G)\n",
    "mdl.solve()\n",
    "problem[\"G\"] = G\n",
    "problem[\"sol\"] = \"\".join(str(round(mdl.solution.get_value(var))) for var in mdl.iter_binary_vars())\n",
    "problems[backend_name] = problem\n",
    "np.save(\"./Data/NL-problems.npy\", problems)"
   ]
  },
  {
   "cell_type": "markdown",
   "metadata": {},
   "source": [
    "# 1D-Chain Graph"
   ]
  },
  {
   "cell_type": "code",
   "execution_count": 18,
   "metadata": {},
   "outputs": [],
   "source": [
    "qubits_in_line = {}\n",
    "qubits_in_line[\"Eagle\"] = list(range(13,-1,-1)) + [14] + list(range(18,33)) + [36] + list(range(51,36,-1)) + [52] + list(range(56,71)) + [74] + list(range(89,74,-1)) + [90] + list(range(94,109)) + [112] + list(range(126,112,-1))\n",
    "qubits_in_line[\"Heron-r1\"] = list(range(13,-1,-1)) + [15] + list(range(19,34)) + [37] + list(range(52,37,-1)) + [53] + list(range(57,72)) + [75] + list(range(90,75,-1)) + [91] + list(range(95,110)) + [113] + list(range(128,114,-1))\n",
    "qubits_in_line[\"Heron-r2\"] = list(range(0,16)) + [19] + list(range(35,20,-1)) + [36] + list(range(41,56)) + [59] + list(range(75,60,-1)) + [76] + list(range(81,96)) + [99] + list(range(115,100,-1)) + [116] + list(range(121,124))"
   ]
  },
  {
   "cell_type": "code",
   "execution_count": 4,
   "metadata": {},
   "outputs": [
    {
     "name": "stdout",
     "output_type": "stream",
     "text": [
      "Number of qubits: 5\n",
      "Number of qubits: 6\n",
      "Number of qubits: 7\n",
      "Number of qubits: 8\n",
      "Number of qubits: 9\n",
      "Number of qubits: 10\n",
      "Number of qubits: 11\n",
      "Number of qubits: 12\n",
      "Number of qubits: 13\n",
      "Number of qubits: 14\n",
      "Number of qubits: 15\n",
      "Number of qubits: 16\n",
      "Number of qubits: 17\n",
      "Number of qubits: 18\n",
      "Number of qubits: 19\n",
      "Number of qubits: 20\n",
      "Number of qubits: 21\n",
      "Number of qubits: 22\n",
      "Number of qubits: 23\n",
      "Number of qubits: 24\n",
      "Number of qubits: 25\n",
      "Number of qubits: 26\n",
      "Number of qubits: 27\n",
      "Number of qubits: 28\n",
      "Number of qubits: 29\n",
      "Number of qubits: 30\n",
      "Number of qubits: 31\n",
      "Number of qubits: 32\n",
      "Number of qubits: 33\n",
      "Number of qubits: 34\n",
      "Number of qubits: 35\n",
      "Number of qubits: 36\n",
      "Number of qubits: 37\n",
      "Number of qubits: 38\n",
      "Number of qubits: 39\n",
      "Number of qubits: 40\n",
      "Number of qubits: 41\n",
      "Number of qubits: 42\n",
      "Number of qubits: 43\n",
      "Number of qubits: 44\n",
      "Number of qubits: 45\n",
      "Number of qubits: 46\n",
      "Number of qubits: 47\n",
      "Number of qubits: 48\n",
      "Number of qubits: 49\n",
      "Number of qubits: 50\n",
      "Number of qubits: 51\n",
      "Number of qubits: 52\n",
      "Number of qubits: 53\n",
      "Number of qubits: 54\n",
      "Number of qubits: 55\n",
      "Number of qubits: 56\n",
      "Number of qubits: 57\n",
      "Number of qubits: 58\n",
      "Number of qubits: 59\n",
      "Number of qubits: 60\n",
      "Number of qubits: 61\n",
      "Number of qubits: 62\n",
      "Number of qubits: 63\n",
      "Number of qubits: 64\n",
      "Number of qubits: 65\n",
      "Number of qubits: 66\n",
      "Number of qubits: 67\n",
      "Number of qubits: 68\n",
      "Number of qubits: 69\n",
      "Number of qubits: 70\n",
      "Number of qubits: 71\n",
      "Number of qubits: 72\n",
      "Number of qubits: 73\n",
      "Number of qubits: 74\n",
      "Number of qubits: 75\n",
      "Number of qubits: 76\n",
      "Number of qubits: 77\n",
      "Number of qubits: 78\n",
      "Number of qubits: 79\n",
      "Number of qubits: 80\n",
      "Number of qubits: 81\n",
      "Number of qubits: 82\n",
      "Number of qubits: 83\n",
      "Number of qubits: 84\n",
      "Number of qubits: 85\n",
      "Number of qubits: 86\n",
      "Number of qubits: 87\n",
      "Number of qubits: 88\n",
      "Number of qubits: 89\n",
      "Number of qubits: 90\n",
      "Number of qubits: 91\n",
      "Number of qubits: 92\n",
      "Number of qubits: 93\n",
      "Number of qubits: 94\n",
      "Number of qubits: 95\n",
      "Number of qubits: 96\n",
      "Number of qubits: 97\n",
      "Number of qubits: 98\n",
      "Number of qubits: 99\n",
      "Number of qubits: 100\n",
      "Number of qubits: 101\n",
      "Number of qubits: 102\n",
      "Number of qubits: 103\n",
      "Number of qubits: 104\n",
      "Number of qubits: 105\n",
      "Number of qubits: 106\n",
      "Number of qubits: 107\n",
      "Number of qubits: 108\n",
      "Number of qubits: 109\n"
     ]
    }
   ],
   "source": [
    "backend_name = \"Eagle\"\n",
    "np.random.seed(123)\n",
    "num_qubits = range(5, 110)\n",
    "problems = defaultdict(dict)\n",
    "for nq in num_qubits:\n",
    "    print(f\"Number of qubits: {nq}\")\n",
    "    G = nx.Graph()\n",
    "    for i in range(nq-1):\n",
    "        w = np.random.choice([0.1, 0.2, 0.3, 0.5, 1.0])\n",
    "        G.add_weighted_edges_from([[i, i+1, w]])\n",
    "    problems[nq][\"G\"] = G\n",
    "    mdl = WMaxCut(G)\n",
    "    mdl.solve()\n",
    "    problems[nq][\"sol\"] = \"\".join(str(round(mdl.solution.get_value(var))) for var in mdl.iter_binary_vars())\n",
    "# np.save(f\"./Data/WMC_1D.npy\", problems)"
   ]
  },
  {
   "cell_type": "markdown",
   "metadata": {},
   "source": [
    "# Removing mdl conflicting data"
   ]
  },
  {
   "cell_type": "code",
   "execution_count": 12,
   "metadata": {},
   "outputs": [],
   "source": [
    "import os \n",
    "import numpy as np\n",
    "folders = [f for f in os.listdir(\"./Data/\") if os.path.isdir(os.path.join(\"./Data/\", f)) and not f.startswith('.')]\n",
    "for sub_folder in folders:\n",
    "    folder_path = f\"./Data/{sub_folder}/\"\n",
    "    files = [f for f in os.listdir(folder_path) if os.path.isdir(os.path.join(folder_path, f)) and not f.startswith('.')]\n",
    "\n",
    "    # nq = 156\n",
    "    # backend_name = \"ibm_fez\"\n",
    "    # layout = \"HE\"\n",
    "    # extra = \"_fractional\"\n",
    "    for file in files:\n",
    "        if not os.path.isdir(os.path.join(folder_path, file)) and not file.startswith('.'):\n",
    "            data = np.load(folder_path+file, allow_pickle=True).item()\n",
    "            try:\n",
    "                data.pop(\"mdl\")\n",
    "            except:\n",
    "                pass\n",
    "            np.save(folder_path+file, data)"
   ]
  },
  {
   "cell_type": "code",
   "execution_count": null,
   "metadata": {},
   "outputs": [],
   "source": []
  }
 ],
 "metadata": {
  "kernelspec": {
   "display_name": ".venv",
   "language": "python",
   "name": "python3"
  },
  "language_info": {
   "codemirror_mode": {
    "name": "ipython",
    "version": 3
   },
   "file_extension": ".py",
   "mimetype": "text/x-python",
   "name": "python",
   "nbconvert_exporter": "python",
   "pygments_lexer": "ipython3",
   "version": "3.11.5"
  }
 },
 "nbformat": 4,
 "nbformat_minor": 2
}
