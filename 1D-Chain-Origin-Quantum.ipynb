{
 "cells": [
  {
   "cell_type": "code",
   "execution_count": 1,
   "metadata": {},
   "outputs": [],
   "source": [
    "import numpy as np\n",
    "import networkx as nx\n",
    "import matplotlib.pyplot as plt\n",
    "from collections import defaultdict\n",
    "from pyqpanda import QCloud, real_chip_type, QMachineType, CPUQVM, QProg, run_with_configuration\n",
    "from pyqpanda import origin_72, get_realtime_topology, topology_match, CNOT_GATE\n",
    "from pyqpanda import init, qAlloc_many, cAlloc_many, create_empty_qprog, H, RX, RZ , CNOT, prob_run_dict, finalize, measure_all\n",
    "\n",
    "%matplotlib inline"
   ]
  },
  {
   "cell_type": "code",
   "execution_count": 2,
   "metadata": {},
   "outputs": [],
   "source": [
    "def cost_maxcut(bitstring, weights):\n",
    "    \"\"\"\n",
    "    Computes the cost of a given bitstring solution for the Max-Cut problem.\n",
    "\n",
    "    Parameters:\n",
    "    bitstring (str): A binary string representing a partition of the graph nodes (e.g., \"1010\").\n",
    "    weights (dict): A dictionary where keys are edge tuples (i, j) and values are edge weights.\n",
    "\n",
    "    Returns:\n",
    "    float: The computed cost of the Max-Cut solution.\n",
    "    \"\"\"\n",
    "    cost = 0  # Initialize the cost\n",
    "    \n",
    "    # Iterate through all edges in the graph\n",
    "    for i, j in weights.keys():\n",
    "        # Check if the nodes i and j are in different partitions (cut condition)\n",
    "        if bitstring[i] + bitstring[j] in [\"10\", \"01\"]:\n",
    "            cost += weights[i, j]  # Add the edge weight to the cost\n",
    "\n",
    "    return cost  # Return the total cut cost\n",
    "\n",
    "\n",
    "def objective_MaxCut(samples_dict, G, optimal):\n",
    "    \"\"\"\n",
    "    Evaluates the performance of a quantum algorithm for the Max-Cut problem.\n",
    "\n",
    "    Parameters:\n",
    "    samples_dict (dict): A dictionary where keys are bitstrings (binary solutions), \n",
    "                         and values are their occurrence counts.\n",
    "    G (networkx.Graph): The input weighted graph where edges represent cut costs.\n",
    "    optimal (str): The optimal bitstring solution found by classical solvers (e.g., CPLEX).\n",
    "\n",
    "    Returns:\n",
    "    dict: A dictionary containing:\n",
    "        - \"results\": A numpy array with computed cost, normalized cost ratio, and counts.\n",
    "        - \"G\": The input graph G.\n",
    "        - \"weights\": The edge weights extracted from G.\n",
    "        - \"max_cut\": The cost of the optimal Max-Cut solution.\n",
    "        - \"r\": The expected approximation ratio.\n",
    "        - \"probability\": The probability of sampling the optimal solution.\n",
    "    \"\"\"\n",
    "\n",
    "    # Extract weights from the graph's edges\n",
    "    weights = {(i, j): (G[i][j][\"weight\"] if len(G[i][j]) != 0 else 1) for i, j in G.edges}\n",
    "    \n",
    "    # Compute the cost of the optimal Max-Cut solution\n",
    "    max_cost = cost_maxcut(optimal, weights)\n",
    "\n",
    "    results = []  # Stores results in the form [cost, ratio, counts]\n",
    "    probability = 0  # Tracks probability of sampling the optimal solution\n",
    "\n",
    "    # Iterate through all sampled bitstrings\n",
    "    for bitstring, counts in samples_dict.items():\n",
    "        cost = cost_maxcut(bitstring, weights)  # Compute cost of the given bitstring\n",
    "        r = cost / max_cost  # Compute the cost ratio relative to the optimal solution\n",
    "        results.append([cost, r, counts])  # Store results\n",
    "        \n",
    "        # If this bitstring matches the optimal cost, update probability\n",
    "        if abs(cost - max_cost) < 1e-6:\n",
    "            probability += counts\n",
    "        \n",
    "        # Check if a better-than-optimal solution appears (sanity check)\n",
    "        if cost > max_cost:\n",
    "            print(f\"There is a better cost than that of CPLEX: {cost - max_cost}\")\n",
    "\n",
    "    # Convert results to a NumPy array for easy computation\n",
    "    results = np.array(results)\n",
    "\n",
    "    # Total number of shots (total sampled solutions)\n",
    "    shots = np.sum(results[:, 2])\n",
    "\n",
    "    # Compute the expected approximation ratio: (weighted sum of costs) / (shots * max_cost)\n",
    "    rT = np.sum(results[:, 0] * results[:, 2]) / (shots * max_cost)\n",
    "\n",
    "    # Normalize the probability of sampling the optimal solution\n",
    "    probability /= shots\n",
    "\n",
    "    # Return results in a structured dictionary\n",
    "    return {\n",
    "        \"results\": np.array(results),\n",
    "        \"G\": G,\n",
    "        \"weights\": weights,\n",
    "        \"max_cut\": max_cost,\n",
    "        \"r\": rT,\n",
    "        \"probability\": probability\n",
    "    }\n",
    "\n",
    "def mitigate(samples_dict, G, random=False):\n",
    "    \"\"\"\n",
    "    Applies error mitigation by flipping individual bits in sampled solutions \n",
    "    to find better Max-Cut solutions.\n",
    "\n",
    "    Parameters:\n",
    "    samples_dict (dict): A dictionary where keys are bitstrings (binary solutions), \n",
    "                         and values are their occurrence counts.\n",
    "    G (networkx.Graph): The input weighted graph where edges represent cut costs.\n",
    "    random (bool, optional): If True, randomizes the order in which qubits are flipped.\n",
    "                             Default is False (systematic flipping).\n",
    "\n",
    "    Returns:\n",
    "    dict: A dictionary of improved bitstring samples with their updated counts.\n",
    "    \"\"\"\n",
    "\n",
    "    # Define a mapping to flip bits ('0' -> '1', '1' -> '0')\n",
    "    change = {\"0\": \"1\", \"1\": \"0\"}\n",
    "\n",
    "    # Get the number of nodes (qubits)\n",
    "    nq = G.number_of_nodes()\n",
    "\n",
    "    # Extract weights from the graph's edges\n",
    "    weights = {(i, j): (G[i][j][\"weight\"] if len(G[i][j]) != 0 else 1) for i, j in G.edges}\n",
    "\n",
    "    # Dictionary to store new (improved) samples\n",
    "    new_samples = defaultdict(int)\n",
    "\n",
    "    # Iterate over all bitstring samples\n",
    "    for bitstring, counts in samples_dict.items():\n",
    "        for _ in range(counts):  # Process each occurrence of the bitstring separately\n",
    "            best_string = bitstring  # Initialize the best solution as the current one\n",
    "            best_cost = cost_maxcut(bitstring, weights)  # Compute its cost\n",
    "            \n",
    "            # Create an ordered list of qubits (nodes) to consider flipping\n",
    "            list_qubits = np.arange(nq)\n",
    "            \n",
    "            # If random flipping is enabled, shuffle the qubit order\n",
    "            if random:\n",
    "                np.random.shuffle(list_qubits)\n",
    "\n",
    "            # Try flipping each qubit and check if the cost improves\n",
    "            for qi in list_qubits:\n",
    "                # Flip the bit at position qi\n",
    "                new_string = \"\".join((change[i] if n == qi else i) for n, i in enumerate(best_string))\n",
    "                new_cost = cost_maxcut(new_string, weights)\n",
    "\n",
    "                # If the new configuration gives a better cost, update the best solution\n",
    "                if new_cost > best_cost:\n",
    "                    best_string = new_string\n",
    "                    best_cost = new_cost\n",
    "            \n",
    "            # Store the improved bitstring in the new_samples dictionary\n",
    "            new_samples[best_string] += 1\n",
    "\n",
    "    return new_samples  # Return the mitigated samples\n",
    "\n",
    "def random_samples(num_samples, n_qubits):\n",
    "    \"\"\"\n",
    "    Generates random bitstring samples for a given number of qubits.\n",
    "\n",
    "    Parameters:\n",
    "    num_samples (int): The number of random bitstrings to generate.\n",
    "    n_qubits (int): The number of qubits (length of each bitstring).\n",
    "\n",
    "    Returns:\n",
    "    dict: A dictionary where keys are randomly generated bitstrings \n",
    "          and values are their occurrence counts.\n",
    "    \"\"\"\n",
    "    \n",
    "    random_samples = defaultdict(int)  # Dictionary to store bitstrings and their counts\n",
    "\n",
    "    # Generate random bitstrings and count their occurrences\n",
    "    for _ in range(num_samples):\n",
    "        bitstring = \"\".join(str(i) for i in np.random.choice([0, 1], n_qubits))  # Generate a random bitstring\n",
    "        random_samples[bitstring] += 1  # Increment count for the generated bitstring\n",
    "\n",
    "    return random_samples  # Return the dictionary of samples\n"
   ]
  },
  {
   "cell_type": "code",
   "execution_count": 3,
   "metadata": {},
   "outputs": [],
   "source": [
    "qpu_data = get_realtime_topology(72, False)"
   ]
  },
  {
   "cell_type": "code",
   "execution_count": 4,
   "metadata": {},
   "outputs": [
    {
     "data": {
      "image/png": "[encoded data removed]",
      "text/plain": [
       "<Figure size 640x480 with 1 Axes>"
      ]
     },
     "metadata": {},
     "output_type": "display_data"
    }
   ],
   "source": [
    "G_chip = nx.Graph()\n",
    "qubits = qpu_data[1]\n",
    "G_chip.add_nodes_from(qubits)\n",
    "\n",
    "G_chip.add_edges_from(qpu_data[0])\n",
    "fig, ax  = plt.subplots()\n",
    "pos = nx.circular_layout(G_chip)\n",
    "\n",
    "nx.draw(G_chip, ax=ax, pos =pos, node_size=20)\n",
    "len_best_path = 0\n",
    "for i in G_chip.nodes():\n",
    "    path = [i]\n",
    "    while True:\n",
    "        neighbor_qubits = list(G_chip[path[-1]].keys())\n",
    "        suma = 0\n",
    "        for q in neighbor_qubits:\n",
    "            if q not in path:\n",
    "                path.append(q)\n",
    "                break\n",
    "            else:\n",
    "                suma += 1\n",
    "        if suma == len(neighbor_qubits):\n",
    "            break\n",
    "    if len(path) > len_best_path:\n",
    "        best_path = path\n",
    "        len_best_path = len(path)\n",
    "\n",
    "results = {}\n",
    "results[\"list_1D\"] = path\n",
    "results[\"GT\"] = G_chip"
   ]
  },
  {
   "cell_type": "code",
   "execution_count": 5,
   "metadata": {},
   "outputs": [],
   "source": [
    "def QAOA(G, gammas, betas, qvm):\n",
    "    max_weight = max([abs(G[i][j][\"weight\"]) for i, j in G.edges()])\n",
    "    ps = len(gammas)\n",
    "    nq = G.number_of_nodes()\n",
    "    layers_1 = [(i,i+1) for i in range(0, nq, 2)]\n",
    "    layers_2 = [(i,i+1) for i in range(1, nq, 2)]\n",
    "    prog = QProg()\n",
    "    qubits = qvm.qAlloc_many(nq)\n",
    "    cbits = qvm.cAlloc_many(nq)\n",
    "    prog << H(qubits)\n",
    "    for p in range(ps):\n",
    "        for i, j in G.edges():\n",
    "            if (i,j) in layers_1:\n",
    "                prog << CNOT(qubits[i],qubits[j]) \\\n",
    "                    << RZ(qubits[j], 2 * (G[i][j][\"weight\"]/max_weight) * gammas[p]) \\\n",
    "                    << CNOT(qubits[i],qubits[j])\n",
    "        for i, j in G.edges():\n",
    "            if (i,j) in layers_2:\n",
    "                prog << CNOT(qubits[i],qubits[j]) \\\n",
    "                    << RZ(qubits[j], 2 * (G[i][j][\"weight\"]/max_weight) * gammas[p]) \\\n",
    "                    << CNOT(qubits[i],qubits[j])    \n",
    "        prog << RX(qubits, -2 * betas[p])\n",
    "    prog << measure_all(qubits, cbits)\n",
    "    return prog, qubits, cbits"
   ]
  },
  {
   "cell_type": "code",
   "execution_count": 6,
   "metadata": {},
   "outputs": [],
   "source": [
    "problems = np.load(\"./Data/problems_1DChain.npy\", allow_pickle=True).item()"
   ]
  },
  {
   "cell_type": "code",
   "execution_count": 7,
   "metadata": {},
   "outputs": [
    {
     "name": "stdout",
     "output_type": "stream",
     "text": [
      "828\n"
     ]
    }
   ],
   "source": [
    "delta_beta = 1\n",
    "delta_gamma = 1\n",
    "\n",
    "p = 10\n",
    "nq = 5\n",
    "G = problems[\"G\"][nq]\n",
    "sol = problems[\"sol\"][nq]\n",
    "betas = list(np.arange(1, p+1)[::-1] * delta_beta/p)  # Reverse sequence for betas\n",
    "gammas = list(np.arange(1, p+1) * delta_gamma/p)  # Forward sequence for gammas\n",
    "# Perform probability measurements on quantum programs\n",
    "\n",
    "\n",
    "qvm = CPUQVM()\n",
    "qvm.init_qvm()\n",
    "program, qubits, cbits = QAOA(G, gammas, betas, qvm)\n",
    "qvm.directly_run(program)\n",
    "\n",
    "result = qvm.run_with_configuration(program, cbits, 1000)\n",
    "# Print measurement results\n",
    "print(result[sol[0]] + result[sol[1]])\n"
   ]
  },
  {
   "cell_type": "markdown",
   "metadata": {},
   "source": [
    "# Real QPU"
   ]
  },
  {
   "cell_type": "code",
   "execution_count": 15,
   "metadata": {},
   "outputs": [
    {
     "name": "stdout",
     "output_type": "stream",
     "text": [
      " ------   p 3 ----------\n",
      " ------   p 4 ----------\n",
      " ------   p 5 ----------\n",
      " ------   p 6 ----------\n",
      " ------   p 7 ----------\n",
      " ------   p 8 ----------\n",
      " ------   p 9 ----------\n",
      " ------   p 10 ----------\n",
      " ------   p 13 ----------\n",
      " ------   p 15 ----------\n",
      " ------   p 20 ----------\n"
     ]
    }
   ],
   "source": [
    "# The number of layers in the quantum circuit exceeds the limit: details for using 75 layers or more\n",
    "QCM = QCloud()\n",
    "with open(\"../origin_quantum_token.txt\", \"r\") as r:\n",
    "    token = r.read()\n",
    "extra = \"_2\"\n",
    "backend_name = \"originq_wukong\"\n",
    "\n",
    "ps = [3, 4, 5, 6, 7, 8, 9, 10, 13, 15, 20]  \n",
    "shots = 1000\n",
    "nq = 10\n",
    "G = problems[\"G\"][nq]\n",
    "results = {}\n",
    "deltas = [1]\n",
    "results[\"G\"] = G\n",
    "results[\"sols\"] = problems[\"sol\"][nq]\n",
    "results[\"ps\"] = ps\n",
    "results[\"Deltas\"] = deltas\n",
    "results[\"shots\"] = shots\n",
    "programs = []\n",
    "for delta in deltas:\n",
    "    for p in ps:\n",
    "        print(f\" ------   p {p} ----------\")\n",
    "        QCM.init_qvm(token)\n",
    "        betas = list(np.arange(1, p+1)[::-1] * delta/p)  # Reverse sequence for betas\n",
    "        gammas = list(np.arange(1, p+1) * delta/p)  # Forward sequence for gammas\n",
    "        program, qubits, cbits = QAOA(G, gammas, betas, QCM)\n",
    "        programs.append(program)"
   ]
  },
  {
   "cell_type": "code",
   "execution_count": 16,
   "metadata": {},
   "outputs": [],
   "source": [
    "id_task = QCM.async_batch_real_chip_measure(programs, shot = shots, chip_id = origin_72)\n",
    "results[\"ids\"] = id_task\n",
    "np.save(f\"./Data/{backend_name}/{nq}_1D{extra}.npy\", results)  \n"
   ]
  },
  {
   "cell_type": "code",
   "execution_count": 24,
   "metadata": {},
   "outputs": [
    {
     "name": "stdout",
     "output_type": "stream",
     "text": [
      "['{\"key\":[\"0x0\",\"0x1\",\"0x10\",\"0x11\",\"0x12\",\"0x13\",\"0x14\",\"0x15\",\"0x16\",\"0x17\",\"0x18\",\"0x19\",\"0x1a\",\"0x1b\",\"0x1c\",\"0x1d\",\"0x1e\",\"0x1f\",\"0x2\",\"0x3\",\"0x4\",\"0x5\",\"0x6\",\"0x7\",\"0x8\",\"0x9\",\"0xa\",\"0xb\",\"0xc\",\"0xd\",\"0xe\",\"0xf\"],\"value\":[0.000020553643480525353,0.0005644197226502001,0.0018227467080578209,0.005259617697447538,0.02160118892788887,0.00569132249802351,0.0026685178745538,0.15104034543037418,0.056969113647937778,0.005404207389801741,0.008487245999276638,0.06635747104883194,0.06548770517110825,0.01089894026517868,0.00026534884818829596,0.002854160498827696,0.005205572117120028,0.007301837671548128,0.0005614987458102405,0.0005061886040493846,0.00002104272789438255,0.000644664338324219,0.00003528773959260434,0.0012489783111959696,0.019883178174495698,0.2886755168437958,0.1660633683204651,0.022010715678334237,0.003260082565248013,0.03686026856303215,0.042167384177446368,0.00016153554315678775]}', '{\"key\":[\"0x0\",\"0x1\",\"0x10\",\"0x11\",\"0x12\",\"0x13\",\"0x14\",\"0x15\",\"0x16\",\"0x17\",\"0x18\",\"0x19\",\"0x1a\",\"0x1b\",\"0x1c\",\"0x1d\",\"0x1e\",\"0x1f\",\"0x2\",\"0x3\",\"0x4\",\"0x5\",\"0x6\",\"0x7\",\"0x8\",\"0x9\",\"0xa\",\"0xb\",\"0xc\",\"0xd\",\"0xe\",\"0xf\"],\"value\":[0.000004355811142886523,0.005762743763625622,0.00016273051733151078,0.03564758598804474,0.01051396131515503,0.003280396806076169,0.003960658796131611,0.1367880553007126,0.09046697616577149,0.00340006104670465,0.0030968664214015009,0.02035817876458168,0.05126979574561119,0.0019019402097910645,0.0019274940714240077,0.004273677244782448,0.002209341619163752,0.00032560693216510117,0.0040703448466956619,0.000875591766089201,0.005574633367359638,0.014162562787532808,0.0019195154309272769,0.010167584754526616,2.5443991358287118e-10,0.08834098279476166,0.4238257110118866,0.02909340895712376,0.002400857862085104,0.023137088865041737,0.013255950063467026,0.007825296372175217]}', '{\"key\":[\"0x0\",\"0x1\",\"0x10\",\"0x11\",\"0x12\",\"0x13\",\"0x14\",\"0x15\",\"0x16\",\"0x17\",\"0x18\",\"0x19\",\"0x1a\",\"0x1b\",\"0x1c\",\"0x1d\",\"0x1e\",\"0x1f\",\"0x2\",\"0x3\",\"0x4\",\"0x5\",\"0x6\",\"0x7\",\"0x8\",\"0x9\",\"0xa\",\"0xb\",\"0xc\",\"0xd\",\"0xe\",\"0xf\"],\"value\":[1.4587581631531069e-7,0.002520507201552391,0.00004818029265152291,0.01909196376800537,0.008014688268303872,0.0004938572528772056,0.01641710288822651,0.05774920433759689,0.05329000949859619,0.0014137686230242253,0.0016356292180716992,0.03330547362565994,0.14037254452705384,0.02238714136183262,0.008875550702214241,0.01537103857845068,0.00354346982203424,0.0014866836136206985,0.007991908118128777,0.000662735546939075,0.000015604095096932725,0.00021374855714384464,0.0021057070698589088,0.00005417233842308633,0.017651543021202089,0.11301226168870926,0.3910341560840607,0.06059757620096207,0.00008811194857116789,0.008354978635907174,0.011628597043454649,0.0005721105844713748]}', '{\"key\":[\"0x0\",\"0x1\",\"0x10\",\"0x11\",\"0x12\",\"0x13\",\"0x14\",\"0x15\",\"0x16\",\"0x17\",\"0x18\",\"0x19\",\"0x1a\",\"0x1b\",\"0x1c\",\"0x1d\",\"0x1e\",\"0x1f\",\"0x2\",\"0x3\",\"0x4\",\"0x5\",\"0x6\",\"0x7\",\"0x8\",\"0x9\",\"0xa\",\"0xb\",\"0xc\",\"0xd\",\"0xe\",\"0xf\"],\"value\":[0.00021813104103785008,0.00003580754128051922,0.005545494146645069,0.00153778656385839,0.001077067106962204,0.0018258582567796112,0.023274362087249757,0.11015329509973526,0.06096843630075455,0.008719427511096,0.004091831855475903,0.04097170010209084,0.14033353328704838,0.016186166554689409,0.013369317166507244,0.012779710814356804,0.0029153241775929929,0.004167853388935328,0.0012027896009385586,0.0011473876656964422,0.00002237113039882388,0.003337205853313208,0.0003006327315233648,0.0019072266295552256,0.01675647497177124,0.10263855010271073,0.3646935820579529,0.038790564984083179,0.0021490929648280145,0.0104631120339036,0.007240749895572662,0.0011789854615926745]}', '{\"key\":[\"0x0\",\"0x1\",\"0x10\",\"0x11\",\"0x12\",\"0x13\",\"0x14\",\"0x15\",\"0x16\",\"0x17\",\"0x18\",\"0x19\",\"0x1a\",\"0x1b\",\"0x1c\",\"0x1d\",\"0x1e\",\"0x1f\",\"0x2\",\"0x3\",\"0x4\",\"0x5\",\"0x6\",\"0x7\",\"0x8\",\"0x9\",\"0xa\",\"0xb\",\"0xc\",\"0xd\",\"0xe\",\"0xf\"],\"value\":[0.0026139207184314729,0.0006298662046901882,0.0070939259603619579,0.00020792333816643804,0.003141056513413787,0.0001031346109812148,0.006906786002218723,0.13491316139698029,0.025954006239771844,0.007323149591684341,0.010333464480936528,0.03676401451230049,0.15782448649406434,0.023434987291693689,0.018063927069306378,0.005418310407549143,0.014317450113594532,0.005303690209984779,0.0003112449776381254,0.000023634929675608878,0.00001934792453539558,0.000956627423875034,0.00002080145168292802,0.006409908644855022,0.00006780648254789412,0.1459374576807022,0.3053357005119324,0.04380539804697037,0.01293740887194872,0.006078760605305433,0.017725028097629548,0.000023604608941241169]}', '{\"key\":[\"0x0\",\"0x1\",\"0x10\",\"0x11\",\"0x12\",\"0x13\",\"0x14\",\"0x15\",\"0x16\",\"0x17\",\"0x18\",\"0x19\",\"0x1a\",\"0x1b\",\"0x1c\",\"0x1d\",\"0x1e\",\"0x1f\",\"0x2\",\"0x3\",\"0x4\",\"0x5\",\"0x6\",\"0x7\",\"0x8\",\"0x9\",\"0xa\",\"0xb\",\"0xc\",\"0xd\",\"0xe\",\"0xf\"],\"value\":[0.007909892126917839,0.0115768164396286,0.00016846095968503505,0.0026736075524240738,0.04057980701327324,0.03309636190533638,0.02040346898138523,0.027680540457367898,0.020125683397054673,0.031112000346183778,0.015537498518824578,0.001909350627101958,0.012113437987864018,0.011904489248991013,0.00030387574224732816,0.025327548384666444,0.02987569943070412,0.04695548862218857,0.014335932210087777,0.03174686431884766,0.030204230919480325,0.011377026326954365,0.02712065726518631,0.019135823473334314,0.0070201032795012,0.006224235519766808,0.262268990278244,0.03461545705795288,0.03129174932837486,0.08094993233680725,0.025014426559209825,0.07944042235612869]}', '{\"key\":[\"0x0\",\"0x1\",\"0x10\",\"0x11\",\"0x12\",\"0x13\",\"0x14\",\"0x15\",\"0x16\",\"0x17\",\"0x18\",\"0x19\",\"0x1a\",\"0x1b\",\"0x1c\",\"0x1d\",\"0x1e\",\"0x1f\",\"0x2\",\"0x3\",\"0x4\",\"0x5\",\"0x6\",\"0x7\",\"0x8\",\"0x9\",\"0xa\",\"0xb\",\"0xc\",\"0xd\",\"0xe\",\"0xf\"],\"value\":[0.0034199338406324388,0.0007680802955292165,0.01201027538627386,0.02828589268028736,0.01579123362898827,0.027523597702383996,0.01171692367643118,0.11094839870929718,0.012335856445133686,0.02684192731976509,0.042879655957221988,0.12416719645261765,0.13895061612129212,0.05397528782486916,0.005673535168170929,0.028278063982725145,0.030123211443424226,0.023872578516602517,0.008590618148446083,0.006927024107426405,0.0000939898454817012,0.009833271615207196,0.002347673987969756,0.0005195563426241279,0.007315491326153278,0.09432084113359453,0.1300409585237503,0.008691437542438507,0.009206444025039673,0.020929574966430665,0.0016913823783397677,0.001929463120177388]}', '{\"key\":[\"0x0\",\"0x1\",\"0x10\",\"0x11\",\"0x12\",\"0x13\",\"0x14\",\"0x15\",\"0x16\",\"0x17\",\"0x18\",\"0x19\",\"0x1a\",\"0x1b\",\"0x1c\",\"0x1d\",\"0x1e\",\"0x1f\",\"0x2\",\"0x3\",\"0x4\",\"0x5\",\"0x6\",\"0x7\",\"0x8\",\"0x9\",\"0xa\",\"0xb\",\"0xc\",\"0xd\",\"0xe\",\"0xf\"],\"value\":[0.002226830692961812,0.008602169342339039,0.0013500252971425653,0.013962624594569208,0.02776838280260563,0.015033497475087645,0.029253080487251286,0.10238483548164368,0.0021093536633998157,0.026984412223100667,0.03008265234529972,0.06756655871868134,0.16435080766677857,0.03726458549499512,0.01098549086600542,0.0705750584602356,0.06167081370949745,0.0005219494341872633,0.003607268212363124,0.002112021204084158,0.00001131457702285843,0.007791903335601091,0.006006493698805571,0.0000033017618079611568,0.011320758610963822,0.13872867822647096,0.06745211035013199,0.021306853741407396,0.0010181848192587498,0.0336778350174427,0.003929500468075275,0.03034071810543537]}', '{\"key\":[\"0x0\",\"0x1\",\"0x10\",\"0x11\",\"0x12\",\"0x13\",\"0x14\",\"0x15\",\"0x16\",\"0x17\",\"0x18\",\"0x19\",\"0x1a\",\"0x1b\",\"0x1c\",\"0x1d\",\"0x1e\",\"0x1f\",\"0x2\",\"0x3\",\"0x4\",\"0x5\",\"0x6\",\"0x7\",\"0x8\",\"0x9\",\"0xa\",\"0xb\",\"0xc\",\"0xd\",\"0xe\",\"0xf\"],\"value\":[0.0009276341297663748,0.0030422385316342117,0.002453617285937071,0.011387067846953869,0.04209661483764649,0.0002086858585244045,0.015019622631371022,0.07268107682466507,0.0093024717643857,0.00667580496519804,0.0333256758749485,0.10379928350448609,0.13658961653709413,0.12833477556705476,0.07010511308908463,0.12900114059448246,0.015084207989275456,0.017104310914874078,0.020237941294908525,0.005997777916491032,0.0035894967149943119,0.0007720561698079109,0.000938907323870808,0.005482245236635208,0.02279591374099255,0.004720120225101709,0.04883170872926712,0.04063186049461365,0.01652294024825096,0.01876122504472733,0.013239647261798382,0.00033918023109436035]}', '{\"key\":[\"0x0\",\"0x1\",\"0x10\",\"0x11\",\"0x12\",\"0x13\",\"0x14\",\"0x15\",\"0x16\",\"0x17\",\"0x18\",\"0x19\",\"0x1a\",\"0x1b\",\"0x1c\",\"0x1d\",\"0x1e\",\"0x1f\",\"0x2\",\"0x3\",\"0x4\",\"0x5\",\"0x6\",\"0x7\",\"0x8\",\"0x9\",\"0xa\",\"0xb\",\"0xc\",\"0xd\",\"0xe\",\"0xf\"],\"value\":[0.00016850850079208612,0.004524112679064274,0.00868427474051714,0.019719921052455907,0.02101309597492218,0.010762080550193789,0.03500829637050629,0.0432157926261425,0.03423835709691048,0.010463237762451172,0.1129009649157524,0.05824277177453041,0.20003536343574525,0.07771375775337219,0.03767624869942665,0.04676753655076027,0.05088464543223381,0.05017567425966263,0.02325147390365601,0.0033688258845359089,0.00004453499059309252,0.008787223137915135,0.006710272282361984,0.008416500873863697,0.018629273399710656,0.017843516543507577,0.01711244322359562,0.006998354569077492,0.03186015784740448,0.006305312737822533,0.026624394580721856,0.001853141002357006]}', '{\"key\":[\"0x0\",\"0x1\",\"0x10\",\"0x11\",\"0x12\",\"0x13\",\"0x14\",\"0x15\",\"0x16\",\"0x17\",\"0x18\",\"0x19\",\"0x1a\",\"0x1b\",\"0x1c\",\"0x1d\",\"0x1e\",\"0x1f\",\"0x2\",\"0x3\",\"0x4\",\"0x5\",\"0x6\",\"0x7\",\"0x8\",\"0x9\",\"0xa\",\"0xb\",\"0xc\",\"0xd\",\"0xe\",\"0xf\"],\"value\":[0.0015466794138774276,0.008339671418070794,0.01968500763177872,0.010698252357542517,0.01838015951216221,0.015251264907419682,0.041675716638565066,0.012872445397078993,0.0015837914543226362,0.04804093018174172,0.14493699371814729,0.0965992584824562,0.09742312878370284,0.1107066720724106,0.05451648309826851,0.06046279519796372,0.08941777050495148,0.01799846813082695,0.005909044295549393,0.011267688125371932,0.002394380746409297,0.006183138582855463,0.0021046805195510389,0.0057731200940907,0.04261207208037377,0.003713049925863743,0.012386812828481198,0.0158221535384655,0.01525184791535139,0.007142724469304085,0.0008497504168190062,0.01845409721136093]}']\n"
     ]
    }
   ],
   "source": [
    "backend_name = \"originq_wukong\"\n",
    "extra = \"_2\"\n",
    "nq = 5\n",
    "results = np.load(f\"./Data/{backend_name}/{nq}_1D{extra}.npy\", allow_pickle=True).item()\n",
    "result = QCM.query_batch_task_state_result(results[\"ids\"])[1]\n",
    "results[\"samples\"] = {1:{}}\n",
    "for i, p in enumerate(ps): \n",
    "    results[\"samples\"][results[\"Deltas\"][0]][p] = {k[::-1]:round(shots*v) for k,v in result[i].items()}\n",
    "np.save(f\"./Data/{backend_name}/{nq}_1D{extra}.npy\", results) "
   ]
  },
  {
   "cell_type": "code",
   "execution_count": 25,
   "metadata": {},
   "outputs": [
    {
     "name": "stdout",
     "output_type": "stream",
     "text": [
      "----------- p = 3 -------------\n",
      "----------- p = 4 -------------\n",
      "----------- p = 5 -------------\n",
      "----------- p = 6 -------------\n",
      "----------- p = 7 -------------\n",
      "----------- p = 8 -------------\n",
      "----------- p = 9 -------------\n",
      "----------- p = 10 -------------\n",
      "----------- p = 13 -------------\n",
      "----------- p = 15 -------------\n",
      "----------- p = 20 -------------\n"
     ]
    }
   ],
   "source": [
    "results = np.load(f\"./Data/{backend_name}/{nq}_1D{extra}.npy\", allow_pickle=True).item()\n",
    "# Extract the number of nodes (qubits) in the original and repeated graph\n",
    "nq = results[\"G\"].number_of_nodes()  # Number of qubits in the original problem graph\n",
    "sections = 1  # Number of repeated sections in the larger subgraph\n",
    "\n",
    "# Dictionaries to store post-processing results\n",
    "postprocessing = {}\n",
    "postprocessing_mitig = {}\n",
    "\n",
    "# Iterate over different values of delta (hyperparameter for QAOA)\n",
    "for delta in results[\"samples\"]:\n",
    "    postprocessing[delta] = {}\n",
    "    postprocessing_mitig[delta] = {}\n",
    "\n",
    "    # Iterate over different QAOA layer depths (p)\n",
    "    for p in results[\"samples\"][delta]:\n",
    "        print(f\"----------- p = {p} -------------\")\n",
    "        postprocessing[delta][p] = {}\n",
    "        postprocessing_mitig[delta][p] = {}\n",
    "\n",
    "        # Iterate over each section of the repeated subgraph\n",
    "        for sec in range(sections):\n",
    "            samples_sec = defaultdict(int)\n",
    "\n",
    "            # Extract samples corresponding to the current section\n",
    "            for k, v in results[\"samples\"][delta][p].items():\n",
    "                samples_sec[k[sec * nq : (sec + 1) * nq][::-1]] += v\n",
    "\n",
    "            # Compute objective function for the MaxCut problem\n",
    "            postprocessing[delta][p][sec] = objective_MaxCut(samples_sec, results[\"G\"], results[\"sols\"][0])\n",
    "\n",
    "            # Apply error mitigation (local search improvement)\n",
    "            new_samples = mitigate(samples_sec, results[\"G\"], random=False)\n",
    "\n",
    "            # Compute the objective function for mitigated results\n",
    "            postprocessing_mitig[delta][p][sec] = objective_MaxCut(new_samples, results[\"G\"], results[\"sols\"][0])\n",
    "\n",
    "# Store the post-processed and mitigated results\n",
    "results[\"postprocessing\"] = postprocessing\n",
    "results[\"postprocessing_mitig\"] = postprocessing_mitig\n",
    "\n",
    "# Generate random bitstring samples for comparison\n",
    "rand_samples = random_samples(10_000, nq)\n",
    "\n",
    "# Compute the objective function for random sampling (baseline performance)\n",
    "results[\"random\"] = objective_MaxCut(rand_samples, results[\"G\"], results[\"sols\"][0])\n",
    "\n",
    "# Apply error mitigation to random samples and evaluate performance\n",
    "results[\"random_mitig\"] = objective_MaxCut(mitigate(rand_samples, results[\"G\"], random=False), results[\"G\"], results[\"sols\"][0])\n",
    "\n",
    "# Save the updated results dictionary\n",
    "np.save(f\"./Data/{backend_name}/{nq}_1D{extra}.npy\", results)\n"
   ]
  },
  {
   "cell_type": "code",
   "execution_count": 26,
   "metadata": {},
   "outputs": [
    {
     "data": {
      "text/plain": [
       "[<matplotlib.lines.Line2D at 0x12b2f7910>]"
      ]
     },
     "execution_count": 26,
     "metadata": {},
     "output_type": "execute_result"
    },
    {
     "data": {
      "image/png": "[encoded data removed]",
      "text/plain": [
       "<Figure size 640x480 with 1 Axes>"
      ]
     },
     "metadata": {},
     "output_type": "display_data"
    }
   ],
   "source": [
    "plt.plot(results[\"ps\"], [results[\"postprocessing\"][1][p][0][\"r\"] for p in results[\"ps\"]], marker=\"o\")"
   ]
  },
  {
   "cell_type": "code",
   "execution_count": null,
   "metadata": {},
   "outputs": [],
   "source": []
  }
 ],
 "metadata": {
  "kernelspec": {
   "display_name": ".venv",
   "language": "python",
   "name": "python3"
  },
  "language_info": {
   "codemirror_mode": {
    "name": "ipython",
    "version": 3
   },
   "file_extension": ".py",
   "mimetype": "text/x-python",
   "name": "python",
   "nbconvert_exporter": "python",
   "pygments_lexer": "ipython3",
   "version": "3.11.5"
  }
 },
 "nbformat": 4,
 "nbformat_minor": 2
}
